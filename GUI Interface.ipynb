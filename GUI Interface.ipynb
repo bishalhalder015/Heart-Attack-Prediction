{
 "cells": [
  {
   "cell_type": "code",
   "execution_count": 1,
   "id": "a67b247b-c6c6-497a-9d30-f7ebe7ad80be",
   "metadata": {},
   "outputs": [],
   "source": [
    "import pickle\n",
    "filename = \"Log_model.sav\"\n",
    "logistics = pickle.load(open(filename, 'rb'))\n",
    "filename = \"KNN_model.sav\"\n",
    "KNN_model = pickle.load(open(filename, 'rb'))\n",
    "filename = \"Decision_Tree_model.sav\"\n",
    "d_tree_model = pickle.load(open(filename, 'rb'))"
   ]
  },
  {
   "cell_type": "code",
   "execution_count": 2,
   "id": "058ffb3e",
   "metadata": {},
   "outputs": [
    {
     "name": "stdout",
     "output_type": "stream",
     "text": [
      "1.0.2\n"
     ]
    }
   ],
   "source": [
    "import sklearn\n",
    "print(sklearn.__version__)"
   ]
  },
  {
   "cell_type": "code",
   "execution_count": 3,
   "id": "408b84fd-0050-48ee-b7b4-1b6403dc7109",
   "metadata": {},
   "outputs": [
    {
     "name": "stdout",
     "output_type": "stream",
     "text": [
      "Program exited without submitting\n"
     ]
    }
   ],
   "source": [
    "from tkinter import *\n",
    "from tkinter import messagebox\n",
    "root = Tk()\n",
    "\n",
    "root.geometry(\"350x150\")\n",
    "root.title(\"Heart Attack Prediction\")\n",
    "root.configure(bg = \"yellow\")\n",
    "\n",
    "\n",
    "options = [\n",
    "    \"typical angina\",\n",
    "    \"atypical angina\",\n",
    "    \"non-anginal pain\",\n",
    "    \"asymptomatic\"\n",
    "]\n",
    "chest_pain_dict = {\n",
    "    \"typical angina\":1,\n",
    "    \"atypical angina\":2,\n",
    "    \"non-anginal pain\":3,\n",
    "    \"asymptomatic\":0\n",
    "}\n",
    "\n",
    "labelCp = Label(root, text = \"Chest Pain: \",bg = \"yellow\")\n",
    "labelCp.grid(row = 0, column = 0)\n",
    "\n",
    "\n",
    "clicked = StringVar()\n",
    "clicked.set(options[0])\n",
    "\n",
    "drop = OptionMenu(root, clicked, *options)\n",
    "drop.grid(row = 0, column = 1)\n",
    "\n",
    "# maximum heart rate achieved\n",
    "\n",
    "labelThalach = Label(root, text = \"Max heart rate: \",bg = \"yellow\")\n",
    "labelThalach.grid(row = 1, column = 0)\n",
    "\n",
    "thalachInput = Entry(root)\n",
    "thalachInput.grid(row = 1, column = 1)\n",
    "\n",
    "# exercise induced angina\n",
    "\n",
    "labelExang = Label(root, text = \"Exercise induced angina: \",bg = \"yellow\")\n",
    "labelExang.grid(row = 2, column = 0)\n",
    "\n",
    "r = IntVar()\n",
    "r.set(None)\n",
    "Radiobutton(root, text = \"Yes\", variable = r, value = 1, bg = \"yellow\").grid(row = 2, column = 1)\n",
    "Radiobutton(root, text = \"No\", variable = r, value = 0, bg = \"yellow\").grid(row = 2, column = 2)\n",
    "\n",
    "# ST depression induced by exercise relative to rest\n",
    "labelOldpeak = Label(root, text = \"ST Depression Count: \",bg = \"yellow\")\n",
    "labelOldpeak.grid(row = 3, column = 0)\n",
    "\n",
    "\n",
    "spin = Spinbox(root, from_ = 0, to = 7, width = 5, values=list(y+x/10 for y in range(0, 8) for x in range(0, 10)))\n",
    "spin.grid(row = 3, column = 1)\n",
    "\n",
    "chest_pain_value, max_heart_rate_value, exercise_induce_angina_value, ST_depression_value = None, None, None, None\n",
    "\n",
    "def getData():\n",
    "    global chest_pain_value, max_heart_rate_value, exercise_induce_angina_value, ST_depression_value\n",
    "    try:\n",
    "        chest_pain_value = clicked.get()\n",
    "        max_heart_rate_value = int(thalachInput.get())\n",
    "        exercise_induce_angina_value = r.get()\n",
    "        ST_depression_value = float(spin.get())\n",
    "    except:\n",
    "        messagebox.showerror(\"ERROR\",\"Enter all fields\")\n",
    "    else:\n",
    "        root.destroy()\n",
    "\n",
    "submit = Button(root, text = \"Submit\", command = getData, fg = \"red\")\n",
    "submit.grid(row = 4, columnspan = 4, padx = 50, pady = 10)\n",
    "\n",
    "root.mainloop()\n",
    "\n",
    "if (chest_pain_value == None or max_heart_rate_value == None or exercise_induce_angina_value == None or ST_depression_value == None):\n",
    "    print(\"Program exited without submitting\")\n",
    "else:\n",
    "    chest_pain_value = chest_pain_dict[chest_pain_value]\n",
    "    value = 0\n",
    "    value += logistics.predict([[chest_pain_value, max_heart_rate_value, exercise_induce_angina_value, ST_depression_value]])[0]\n",
    "    value += KNN_model.predict([[chest_pain_value, max_heart_rate_value, exercise_induce_angina_value, ST_depression_value]])[0]\n",
    "    value += d_tree_model.predict([[chest_pain_value, max_heart_rate_value, exercise_induce_angina_value, ST_depression_value]])[0]\n",
    "    print(value)\n",
    "    if value > 1:\n",
    "        print(\"More chance of heart attack\")\n",
    "    else:\n",
    "        print(\"Less chance of heart attack\")"
   ]
  },
  {
   "cell_type": "code",
   "execution_count": 4,
   "id": "2cf6220b-b395-43c1-a0a0-2769e7a1c7ec",
   "metadata": {},
   "outputs": [],
   "source": [
    "from tkinter import *\n",
    "from tkinter import messagebox\n",
    "root = Tk()\n",
    "root.mainloop()"
   ]
  }
 ],
 "metadata": {
  "kernelspec": {
   "display_name": "Python 3 (ipykernel)",
   "language": "python",
   "name": "python3"
  },
  "language_info": {
   "codemirror_mode": {
    "name": "ipython",
    "version": 3
   },
   "file_extension": ".py",
   "mimetype": "text/x-python",
   "name": "python",
   "nbconvert_exporter": "python",
   "pygments_lexer": "ipython3",
   "version": "3.9.13"
  }
 },
 "nbformat": 4,
 "nbformat_minor": 5
}
